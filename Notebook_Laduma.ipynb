{
 "cells": [
  {
   "cell_type": "markdown",
   "metadata": {},
   "source": [
    "#### Import moduldes"
   ]
  },
  {
   "cell_type": "code",
   "execution_count": null,
   "metadata": {},
   "outputs": [],
   "source": [
    "import pandas as pd\n",
    "import seaborn as sns\n",
    "import matplotlib.pyplot as plt\n",
    "\n",
    "from sklearn import preprocessing\n",
    "from sklearn.ensemble import RandomForestClassifier\n",
    "from sklearn.datasets import make_classification\n",
    "\n",
    "pd.set_option('display.max_columns', None)"
   ]
  },
  {
   "cell_type": "markdown",
   "metadata": {},
   "source": [
    "#### Load the data provided"
   ]
  },
  {
   "cell_type": "code",
   "execution_count": null,
   "metadata": {},
   "outputs": [],
   "source": [
    "Train = pd.read_csv(\"Train.csv\")"
   ]
  },
  {
   "cell_type": "code",
   "execution_count": null,
   "metadata": {},
   "outputs": [],
   "source": [
    "Train.head()"
   ]
  },
  {
   "cell_type": "code",
   "execution_count": null,
   "metadata": {},
   "outputs": [],
   "source": [
    "Test = pd.read_csv(\"Test.csv\")"
   ]
  },
  {
   "cell_type": "code",
   "execution_count": null,
   "metadata": {},
   "outputs": [],
   "source": [
    "Test.head()"
   ]
  },
  {
   "cell_type": "code",
   "execution_count": null,
   "metadata": {},
   "outputs": [],
   "source": [
    "game_statistics = pd.read_csv(\"game_statistics.csv\")"
   ]
  },
  {
   "cell_type": "code",
   "execution_count": null,
   "metadata": {},
   "outputs": [],
   "source": [
    "game_statistics.head()"
   ]
  },
  {
   "cell_type": "code",
   "execution_count": null,
   "metadata": {},
   "outputs": [],
   "source": [
    "Train.shape, Test.shape, game_statistics.shape"
   ]
  },
  {
   "cell_type": "code",
   "execution_count": null,
   "metadata": {},
   "outputs": [],
   "source": []
  },
  {
   "cell_type": "markdown",
   "metadata": {},
   "source": [
    "### Data EDA and Visualisation.\n",
    "\n",
    "- Lets analyze the data provided by anaswering some few questions"
   ]
  },
  {
   "cell_type": "markdown",
   "metadata": {},
   "source": [
    "#### How many seasons are in train and test ?"
   ]
  },
  {
   "cell_type": "code",
   "execution_count": null,
   "metadata": {},
   "outputs": [],
   "source": [
    "sns.countplot(Train[\"Season\"])"
   ]
  },
  {
   "cell_type": "code",
   "execution_count": null,
   "metadata": {},
   "outputs": [],
   "source": [
    "sns.countplot(Test[\"Season\"])"
   ]
  },
  {
   "cell_type": "markdown",
   "metadata": {},
   "source": [
    "- We can see that 2 seasons are provided in the training data while one season is provided in the the test"
   ]
  },
  {
   "cell_type": "markdown",
   "metadata": {},
   "source": [
    "#### How many unique match IDs are provided?\n",
    "\n",
    "- From a football perspective, can you find out what's a match, are matches specific to every season?"
   ]
  },
  {
   "cell_type": "code",
   "execution_count": null,
   "metadata": {},
   "outputs": [],
   "source": [
    "Train.Match_ID.nunique()"
   ]
  },
  {
   "cell_type": "code",
   "execution_count": null,
   "metadata": {},
   "outputs": [],
   "source": [
    "Test.Match_ID.nunique()"
   ]
  },
  {
   "cell_type": "markdown",
   "metadata": {},
   "source": [
    "#### How many games were played in train seasons and test seasons?"
   ]
  },
  {
   "cell_type": "code",
   "execution_count": null,
   "metadata": {},
   "outputs": [],
   "source": [
    "Train.Game_ID.nunique()"
   ]
  },
  {
   "cell_type": "code",
   "execution_count": null,
   "metadata": {},
   "outputs": [],
   "source": [
    "Test.Game_ID.nunique()"
   ]
  },
  {
   "cell_type": "markdown",
   "metadata": {},
   "source": [
    "#### How many teams were away and home?"
   ]
  },
  {
   "cell_type": "code",
   "execution_count": null,
   "metadata": {},
   "outputs": [],
   "source": [
    "Train[\"Home Team\"].nunique()"
   ]
  },
  {
   "cell_type": "code",
   "execution_count": null,
   "metadata": {},
   "outputs": [],
   "source": [
    "Train[\"Away Team\"].nunique()"
   ]
  },
  {
   "cell_type": "code",
   "execution_count": null,
   "metadata": {},
   "outputs": [],
   "source": [
    "plt.figure(figsize=(25,7))\n",
    "sns.countplot(Train[\"Home Team\"])"
   ]
  },
  {
   "cell_type": "code",
   "execution_count": null,
   "metadata": {},
   "outputs": [],
   "source": [
    "Train[\"Away Team\"].nunique()"
   ]
  },
  {
   "cell_type": "code",
   "execution_count": null,
   "metadata": {},
   "outputs": [],
   "source": [
    "plt.figure(figsize=(25,7))\n",
    "sns.countplot(Train[\"Away Team\"])"
   ]
  },
  {
   "cell_type": "code",
   "execution_count": null,
   "metadata": {},
   "outputs": [],
   "source": [
    "Test[\"Home Team\"].nunique()"
   ]
  },
  {
   "cell_type": "code",
   "execution_count": null,
   "metadata": {},
   "outputs": [],
   "source": [
    "plt.figure(figsize=(25,7))\n",
    "sns.countplot(Test[\"Home Team\"])"
   ]
  },
  {
   "cell_type": "code",
   "execution_count": null,
   "metadata": {},
   "outputs": [],
   "source": [
    "Test[\"Away Team\"].nunique()"
   ]
  },
  {
   "cell_type": "code",
   "execution_count": null,
   "metadata": {},
   "outputs": [],
   "source": [
    "plt.figure(figsize=(25,7))\n",
    "sns.countplot(Test[\"Away Team\"])"
   ]
  },
  {
   "cell_type": "markdown",
   "metadata": {},
   "source": [
    "- We can see that the number of teams in Home and away are equal in both cases, however the test count of the teams is more balance than the train, could this be as a result of 1 season in test and 2 seasons in the train? For the train can you countplot per season?"
   ]
  },
  {
   "cell_type": "markdown",
   "metadata": {},
   "source": [
    "#### Did the team Win, Lose or Draw?\n",
    "\n",
    "- Let's look at the target column, the reason for creating our machine leaning model, the goal of every footbal game is to determine the winner"
   ]
  },
  {
   "cell_type": "code",
   "execution_count": null,
   "metadata": {},
   "outputs": [],
   "source": [
    "Train[\"Score\"].nunique()"
   ]
  },
  {
   "cell_type": "code",
   "execution_count": null,
   "metadata": {},
   "outputs": [],
   "source": [
    "sns.countplot(Train[\"Score\"])"
   ]
  },
  {
   "cell_type": "markdown",
   "metadata": {},
   "source": [
    "We have 3 classifications, did the away team win, did both teams draw or did the home team win? We can see that in most cases the home team won. There's much more you can do with this field:\n",
    "\n",
    "    - Look at every team, the number of games played? did they win or lose, are most of their wins during home or away game?"
   ]
  },
  {
   "cell_type": "markdown",
   "metadata": {},
   "source": [
    "- **You can do more EDAs on the game statistics file**"
   ]
  },
  {
   "cell_type": "markdown",
   "metadata": {},
   "source": [
    "### Feature Engineering and Modelling"
   ]
  },
  {
   "cell_type": "markdown",
   "metadata": {},
   "source": [
    "#### Game statistics \n",
    "\n",
    "- This file shows how the game was played from start to end, the actions of the game, which player was it passed to etc.\n",
    "- We will need to merge this with the train and test data provided."
   ]
  },
  {
   "cell_type": "code",
   "execution_count": null,
   "metadata": {},
   "outputs": [],
   "source": [
    "Train[\"Train\"] = 1\n",
    "Test[\"Train\"]= 0\n",
    "\n",
    "train_test = pd.concat([Train, Test])"
   ]
  },
  {
   "cell_type": "code",
   "execution_count": null,
   "metadata": {},
   "outputs": [],
   "source": [
    "train_test.shape"
   ]
  },
  {
   "cell_type": "code",
   "execution_count": null,
   "metadata": {},
   "outputs": [],
   "source": [
    "train_test.head(3)"
   ]
  },
  {
   "cell_type": "code",
   "execution_count": null,
   "metadata": {},
   "outputs": [],
   "source": [
    "game_statistics.head(3)"
   ]
  },
  {
   "cell_type": "code",
   "execution_count": null,
   "metadata": {},
   "outputs": [],
   "source": [
    "all_data = game_statistics.merge(train_test, on=\"Game_ID\")"
   ]
  },
  {
   "cell_type": "code",
   "execution_count": null,
   "metadata": {},
   "outputs": [],
   "source": [
    "all_data.shape"
   ]
  },
  {
   "cell_type": "code",
   "execution_count": null,
   "metadata": {},
   "outputs": [],
   "source": [
    "all_data.head()"
   ]
  },
  {
   "cell_type": "markdown",
   "metadata": {},
   "source": [
    "#### How to deal with column that are categorical?\n",
    "\n",
    "- There are various ways of doing this:-\n",
    "\n",
    "    - One hot encoding \n",
    "    - label encoding etc\n",
    "    \n",
    "    \n",
    "- In this starter nb, I'll use label encoding, you can try other other ways"
   ]
  },
  {
   "cell_type": "code",
   "execution_count": null,
   "metadata": {},
   "outputs": [],
   "source": [
    "le = preprocessing.LabelEncoder()\n",
    "\n",
    "all_data[\"Game_ID\"] = le.fit_transform(all_data[\"Game_ID\"])\n",
    "game_mapping = dict(zip(le.classes_, range(len(le.classes_))))\n",
    "all_data[\"Player_ID\"] = le.fit_transform(all_data[\"Player_ID\"])"
   ]
  },
  {
   "cell_type": "markdown",
   "metadata": {},
   "source": [
    "- For the teams ensure they are transformed the same, you do not want a scenario where team Circinus is mapped as 1 on one column and mapped as 2 on another column, this will be inconsistent and will affect the model results"
   ]
  },
  {
   "cell_type": "code",
   "execution_count": null,
   "metadata": {},
   "outputs": [],
   "source": [
    "all_data[\"Team\"] = le.fit_transform(all_data[\"Team\"])\n",
    "\n",
    "mapping = dict(zip(le.classes_, range(len(le.classes_))))"
   ]
  },
  {
   "cell_type": "code",
   "execution_count": null,
   "metadata": {},
   "outputs": [],
   "source": [
    "mapping"
   ]
  },
  {
   "cell_type": "code",
   "execution_count": null,
   "metadata": {},
   "outputs": [],
   "source": [
    "all_data[\"Opposition_Team\"] = all_data[\"Opposition_Team\"].apply(lambda x: mapping[x])\n",
    "all_data[\"Home Team\"] = all_data[\"Home Team\"].apply(lambda x: mapping[x])\n",
    "all_data[\"Away Team\"] = all_data[\"Away Team\"].apply(lambda x: mapping[x])"
   ]
  },
  {
   "cell_type": "code",
   "execution_count": null,
   "metadata": {},
   "outputs": [],
   "source": [
    "all_data.head()"
   ]
  },
  {
   "cell_type": "code",
   "execution_count": null,
   "metadata": {},
   "outputs": [],
   "source": [
    "all_data.isnull().sum()"
   ]
  },
  {
   "cell_type": "code",
   "execution_count": null,
   "metadata": {},
   "outputs": [],
   "source": [
    "#all_data[\"Action\"] = le.fit_transform(all_data[\"Action\"])\n",
    "all_data[\"Half\"] = le.fit_transform(all_data[\"Half\"].astype(str))\n",
    "all_data[\"Manager\"] = le.fit_transform(all_data[\"Manager\"].astype(str))\n",
    "\n",
    "#df2 = df2.apply(lambda col: le.fit_transform(col.astype(str)), axis=0, result_type='expand')"
   ]
  },
  {
   "cell_type": "code",
   "execution_count": null,
   "metadata": {},
   "outputs": [],
   "source": [
    "all_data.head()"
   ]
  },
  {
   "cell_type": "markdown",
   "metadata": {},
   "source": [
    "- For this nb, I'll drop most of the columns that have alot on NAN values, you can choose to fill those NAN values since the columns might be worth including in the modeling"
   ]
  },
  {
   "cell_type": "code",
   "execution_count": null,
   "metadata": {},
   "outputs": [],
   "source": [
    "all_data.drop([\"next_player\", \"next_action\", \"next_x\", \"next_y\", \"event_id\", \"next_team\",\n",
    "               \"next_event_id\", \"xt_value\", \"Date\"], axis=1, inplace=True)"
   ]
  },
  {
   "cell_type": "code",
   "execution_count": null,
   "metadata": {},
   "outputs": [],
   "source": [
    "all_data.head()"
   ]
  },
  {
   "cell_type": "code",
   "execution_count": null,
   "metadata": {},
   "outputs": [],
   "source": [
    "Train =all_data[all_data[\"Train\"] == 1]\n",
    "Train.drop(\"Train\", axis=1, inplace=True)\n",
    "Test = all_data[all_data[\"Train\"] == 0]\n",
    "Test.drop([\"Train\", \"Score\"], axis=1, inplace=True)\n",
    "Test = Test.reset_index(drop=True)"
   ]
  },
  {
   "cell_type": "code",
   "execution_count": null,
   "metadata": {},
   "outputs": [],
   "source": [
    "Train.shape, Test.shape"
   ]
  },
  {
   "cell_type": "code",
   "execution_count": null,
   "metadata": {},
   "outputs": [],
   "source": [
    "Train.head(2)"
   ]
  },
  {
   "cell_type": "code",
   "execution_count": null,
   "metadata": {},
   "outputs": [],
   "source": [
    "Test.head(2)"
   ]
  },
  {
   "cell_type": "code",
   "execution_count": null,
   "metadata": {},
   "outputs": [],
   "source": [
    "# to avoid nans, will map score onli in the training set\n",
    "Train[\"Score\"] = le.fit_transform(Train[\"Score\"])\n",
    "score_mapping = dict(zip(le.classes_, range(len(le.classes_))))"
   ]
  },
  {
   "cell_type": "code",
   "execution_count": null,
   "metadata": {},
   "outputs": [],
   "source": [
    "score_mapping"
   ]
  },
  {
   "cell_type": "code",
   "execution_count": null,
   "metadata": {},
   "outputs": [],
   "source": [
    "Train.isnull().sum()"
   ]
  },
  {
   "cell_type": "code",
   "execution_count": null,
   "metadata": {},
   "outputs": [],
   "source": [
    "Train.drop([\"Match_ID\",\"id\",\"Season\"], axis=1, inplace = True)\n",
    "Train.head()"
   ]
  },
  {
   "cell_type": "code",
   "execution_count": null,
   "metadata": {},
   "outputs": [],
   "source": [
    "X = Train.drop([\"Team\",\"Opposition_Team\",\"Unnamed: 0\",\"Game_ID\",\"Score\"], axis=1)\n",
    "y = Train[\"Score\"]\n",
    "\n",
    "clf = LogisticRegression(multi_class='ovr', max_iter=1000)\n",
    "clf.fit(X, y)"
   ]
  },
  {
   "cell_type": "code",
   "execution_count": null,
   "metadata": {},
   "outputs": [],
   "source": [
    "Test.isnull().sum()"
   ]
  },
  {
   "cell_type": "code",
   "execution_count": null,
   "metadata": {},
   "outputs": [],
   "source": [
    "Test.drop([\"Match_ID\",\"Season\",\"id\"], axis=1, inplace = True)"
   ]
  },
  {
   "cell_type": "code",
   "execution_count": null,
   "metadata": {},
   "outputs": [],
   "source": [
    "Test = Test.fillna(Test[['Shots','SoT','Accurate passes','Inaccurate passes','Passes','Start_minutes']].mean())"
   ]
  },
  {
   "cell_type": "code",
   "execution_count": null,
   "metadata": {},
   "outputs": [],
   "source": [
    "Test.isnull().sum()"
   ]
  },
  {
   "cell_type": "code",
   "execution_count": null,
   "metadata": {},
   "outputs": [],
   "source": [
    "test_predictions  = clf.predict(Test.drop([\"Team\",\"Opposition_Team\",\"Unnamed: 0\",\"Game_ID\"],axis=1))"
   ]
  },
  {
   "cell_type": "code",
   "execution_count": null,
   "metadata": {},
   "outputs": [],
   "source": [
    "Test[\"Score\"] = test_predictions"
   ]
  },
  {
   "cell_type": "code",
   "execution_count": null,
   "metadata": {},
   "outputs": [],
   "source": [
    "Test[\"Score\"].unique()"
   ]
  },
  {
   "cell_type": "code",
   "execution_count": null,
   "metadata": {},
   "outputs": [],
   "source": [
    "score_mapping = { 'Draw': 1, 'Home Win': 2, 'Away win': 0}\n",
    "score_mapping"
   ]
  },
  {
   "cell_type": "code",
   "execution_count": null,
   "metadata": {},
   "outputs": [],
   "source": [
    "score_mapping = {value:key for key, value in score_mapping.items()}\n",
    "Test[\"Score\"] = Test[\"Score\"].apply(lambda x: score_mapping[x])"
   ]
  },
  {
   "cell_type": "code",
   "execution_count": null,
   "metadata": {},
   "outputs": [],
   "source": [
    "game_mapping = {'ID_00EFNL7L': 0,\n",
    " 'ID_00J124MI': 1,\n",
    " 'ID_03VRW8WV': 2,\n",
    " 'ID_04T9W310': 3,\n",
    " 'ID_05YW7A1R': 4,\n",
    " 'ID_064HV3UA': 5,\n",
    " 'ID_06QXUEYD': 6,\n",
    " 'ID_06SV1XSM': 7,\n",
    " 'ID_08N8KYTM': 8,\n",
    " 'ID_0A2WEVY3': 9,\n",
    " 'ID_0BFR12C0': 10,\n",
    " 'ID_0D97CTM2': 11,\n",
    " 'ID_0DQCXCXH': 12,\n",
    " 'ID_0H4KVTOZ': 13,\n",
    " 'ID_0M5K2L1J': 14,\n",
    " 'ID_0O3OGCB9': 15,\n",
    " 'ID_0OPXV0TY': 16,\n",
    " 'ID_0OR30CC4': 17,\n",
    " 'ID_0OW7LBXH': 18,\n",
    " 'ID_0PBGEMAI': 19,\n",
    " 'ID_0SXG1LVI': 20,\n",
    " 'ID_0TIEZ7MG': 21,\n",
    " 'ID_0UB8ADG9': 22,\n",
    " 'ID_12945FWD': 23,\n",
    " 'ID_133YXY0T': 24,\n",
    " 'ID_172V2IXW': 25,\n",
    " 'ID_1B6FP9H5': 26,\n",
    " 'ID_1D1X4PFB': 27,\n",
    " 'ID_1ED799VW': 28,\n",
    " 'ID_1FEH4NFI': 29,\n",
    " 'ID_1IQNQPAW': 30,\n",
    " 'ID_1J98M9UL': 31,\n",
    " 'ID_1JGSZL4I': 32,\n",
    " 'ID_1KCBWUKE': 33,\n",
    " 'ID_1KKTGS75': 34,\n",
    " 'ID_1LEM1AAP': 35,\n",
    " 'ID_1TGCIK70': 36,\n",
    " 'ID_1Y735BT9': 37,\n",
    " 'ID_1YF71544': 38,\n",
    " 'ID_1ZPA9XMX': 39,\n",
    " 'ID_20BPYE4G': 40,\n",
    " 'ID_21BTFEL5': 41,\n",
    " 'ID_21SVBXLQ': 42,\n",
    " 'ID_22R4A4OV': 43,\n",
    " 'ID_24FZH22W': 44,\n",
    " 'ID_24HKPKQH': 45,\n",
    " 'ID_25GTI42K': 46,\n",
    " 'ID_27YV4RRO': 47,\n",
    " 'ID_2947LQTO': 48,\n",
    " 'ID_2B96PJLU': 49,\n",
    " 'ID_2BHM1MAF': 50,\n",
    " 'ID_2DMNO9QP': 51,\n",
    " 'ID_2E3951AN': 52,\n",
    " 'ID_2FUAPJ5S': 53,\n",
    " 'ID_2KH2XHCH': 54,\n",
    " 'ID_2QNA7OQE': 55,\n",
    " 'ID_2QSZ4K64': 56,\n",
    " 'ID_2V7QGMM2': 57,\n",
    " 'ID_2WSDLFNM': 58,\n",
    " 'ID_2X3AC0BS': 59,\n",
    " 'ID_2ZK5TE39': 60,\n",
    " 'ID_313CQJ6L': 61,\n",
    " 'ID_33AOLMD8': 62,\n",
    " 'ID_34HDKVFW': 63,\n",
    " 'ID_35M6T9JZ': 64,\n",
    " 'ID_36NZ9IU5': 65,\n",
    " 'ID_38GWYHWI': 66,\n",
    " 'ID_39S61786': 67,\n",
    " 'ID_3CWKIG2G': 68,\n",
    " 'ID_3I1STYJX': 69,\n",
    " 'ID_3LDF38RP': 70,\n",
    " 'ID_3NW5KUQ3': 71,\n",
    " 'ID_3SHIZPTH': 72,\n",
    " 'ID_3SIVKWL4': 73,\n",
    " 'ID_3TIWWKU9': 74,\n",
    " 'ID_3WQ0X2RV': 75,\n",
    " 'ID_40BVMU42': 76,\n",
    " 'ID_40OQTBJ8': 77,\n",
    " 'ID_42DWN5QA': 78,\n",
    " 'ID_42WQ2WIV': 79,\n",
    " 'ID_45M9BNQO': 80,\n",
    " 'ID_46UP27C8': 81,\n",
    " 'ID_4CYGD80A': 82,\n",
    " 'ID_4G117ZRE': 83,\n",
    " 'ID_4KXP34GC': 84,\n",
    " 'ID_4LTRF5VB': 85,\n",
    " 'ID_4M8BH80D': 86,\n",
    " 'ID_4PB4VL5Q': 87,\n",
    " 'ID_4Q60CD7W': 88,\n",
    " 'ID_4VQVJS1O': 89,\n",
    " 'ID_4WLLNCYX': 90,\n",
    " 'ID_4X3QDC8P': 91,\n",
    " 'ID_530FN5PE': 92,\n",
    " 'ID_568NZHSC': 93,\n",
    " 'ID_56ZZJ9EI': 94,\n",
    " 'ID_58IZEI5C': 95,\n",
    " 'ID_58Y3YYGP': 96,\n",
    " 'ID_5H9QBQMQ': 97,\n",
    " 'ID_5HWA04IU': 98,\n",
    " 'ID_5K4BCEUJ': 99,\n",
    " 'ID_5KHVZBQE': 100,\n",
    " 'ID_5KQZOTHQ': 101,\n",
    " 'ID_5LFD56QF': 102,\n",
    " 'ID_5RTFVRBT': 103,\n",
    " 'ID_5X8VFC64': 104,\n",
    " 'ID_5XNJBBBU': 105,\n",
    " 'ID_5Y6WIRCG': 106,\n",
    " 'ID_60EADYBI': 107,\n",
    " 'ID_628MNEH9': 108,\n",
    " 'ID_65XZO9R3': 109,\n",
    " 'ID_66IWBNXT': 110,\n",
    " 'ID_68FWDT6H': 111,\n",
    " 'ID_6DCVCZN8': 112,\n",
    " 'ID_6IIQ4TZD': 113,\n",
    " 'ID_6K7LRVTC': 114,\n",
    " 'ID_6KO0SC5W': 115,\n",
    " 'ID_6NMJFGI6': 116,\n",
    " 'ID_72XLLS9T': 117,\n",
    " 'ID_7DM8G9SL': 118,\n",
    " 'ID_7DRHHPZK': 119,\n",
    " 'ID_7GHLYGYV': 120,\n",
    " 'ID_7H9RUYR2': 121,\n",
    " 'ID_7HNMFC11': 122,\n",
    " 'ID_7HRBFGSB': 123,\n",
    " 'ID_7HWNZT53': 124,\n",
    " 'ID_7JTHUMTF': 125,\n",
    " 'ID_7KQ7M6CR': 126,\n",
    " 'ID_7MS32IW5': 127,\n",
    " 'ID_7MWJO1RG': 128,\n",
    " 'ID_7Q5V45IR': 129,\n",
    " 'ID_7QNNI0YQ': 130,\n",
    " 'ID_7RVSY2WQ': 131,\n",
    " 'ID_7SH1NGU4': 132,\n",
    " 'ID_7XQJ4ZA4': 133,\n",
    " 'ID_7YEZ3VK0': 134,\n",
    " 'ID_7ZBSNKA9': 135,\n",
    " 'ID_7ZQ7E7Q2': 136,\n",
    " 'ID_826SG25P': 137,\n",
    " 'ID_8518U587': 138,\n",
    " 'ID_85W3ZWMS': 139,\n",
    " 'ID_86GTEWAA': 140,\n",
    " 'ID_897S67BZ': 141,\n",
    " 'ID_8AKT073X': 142,\n",
    " 'ID_8CRFDQZA': 143,\n",
    " 'ID_8DEUQQUO': 144,\n",
    " 'ID_8ITGS2P3': 145,\n",
    " 'ID_8JROBJ91': 146,\n",
    " 'ID_8JTQDHX3': 147,\n",
    " 'ID_8LEIJZJI': 148,\n",
    " 'ID_8MCII6F1': 149,\n",
    " 'ID_8O8VRN8A': 150,\n",
    " 'ID_8QTW09GB': 151,\n",
    " 'ID_8W85GO7G': 152,\n",
    " 'ID_8ZJMCSAG': 153,\n",
    " 'ID_96T3LR7R': 154,\n",
    " 'ID_9AKIA9XC': 155,\n",
    " 'ID_9DJ219JY': 156,\n",
    " 'ID_9DPBXX3W': 157,\n",
    " 'ID_9FMP4X22': 158,\n",
    " 'ID_9H3FH940': 159,\n",
    " 'ID_9JEI8DWV': 160,\n",
    " 'ID_9KVVOCR6': 161,\n",
    " 'ID_9NG7M7IH': 162,\n",
    " 'ID_9NX3Y6RK': 163,\n",
    " 'ID_9P65QCMQ': 164,\n",
    " 'ID_9QKWORXG': 165,\n",
    " 'ID_9UVQHS74': 166,\n",
    " 'ID_9V68FI7L': 167,\n",
    " 'ID_9V6TAYFV': 168,\n",
    " 'ID_9XCMP096': 169,\n",
    " 'ID_A0EALXUP': 170,\n",
    " 'ID_A1ARNO3H': 171,\n",
    " 'ID_A1PN23J6': 172,\n",
    " 'ID_A2FD42KH': 173,\n",
    " 'ID_A46DVQWP': 174,\n",
    " 'ID_A55NG93L': 175,\n",
    " 'ID_A5U63MGQ': 176,\n",
    " 'ID_A84IUATV': 177,\n",
    " 'ID_AB2XN1F5': 178,\n",
    " 'ID_AFHJCI8U': 179,\n",
    " 'ID_AJQ6AXK8': 180,\n",
    " 'ID_ANHOSW6K': 181,\n",
    " 'ID_ANK9DPJS': 182,\n",
    " 'ID_AO08Y8FZ': 183,\n",
    " 'ID_AO17ZS96': 184,\n",
    " 'ID_AOLHJTW3': 185,\n",
    " 'ID_APRR2449': 186,\n",
    " 'ID_AQD3YVMC': 187,\n",
    " 'ID_AT1RY70Q': 188,\n",
    " 'ID_B32VWKSX': 189,\n",
    " 'ID_B3NVY9HP': 190,\n",
    " 'ID_B5ED50XX': 191,\n",
    " 'ID_B8MME8GP': 192,\n",
    " 'ID_B8ZVJSX7': 193,\n",
    " 'ID_B9JSESNH': 194,\n",
    " 'ID_BBYSJZ7Z': 195,\n",
    " 'ID_BJ2VX0EX': 196,\n",
    " 'ID_BJHEDY9T': 197,\n",
    " 'ID_BK1X6A61': 198,\n",
    " 'ID_BOI7CXJV': 199,\n",
    " 'ID_BR430MM1': 200,\n",
    " 'ID_BXLQY78T': 201,\n",
    " 'ID_C1EA08ZR': 202,\n",
    " 'ID_C28GUZGL': 203,\n",
    " 'ID_C51DS9XE': 204,\n",
    " 'ID_CAO3DHF3': 205,\n",
    " 'ID_CEB18NBQ': 206,\n",
    " 'ID_CFNRNH31': 207,\n",
    " 'ID_CGFDXN9S': 208,\n",
    " 'ID_CGX3THAU': 209,\n",
    " 'ID_CHH8Y1BD': 210,\n",
    " 'ID_CNPU22AH': 211,\n",
    " 'ID_CT02DQO5': 212,\n",
    " 'ID_CV7BOXYD': 213,\n",
    " 'ID_CV9VOLIU': 214,\n",
    " 'ID_CVL86B7P': 215,\n",
    " 'ID_CW6K7CPC': 216,\n",
    " 'ID_D1BKOMNB': 217,\n",
    " 'ID_D2JPKHY3': 218,\n",
    " 'ID_D4BBONMS': 219,\n",
    " 'ID_D4WOYK9B': 220,\n",
    " 'ID_D801VVTI': 221,\n",
    " 'ID_D8RLSTH5': 222,\n",
    " 'ID_DBF91Z88': 223,\n",
    " 'ID_DC2OE4J0': 224,\n",
    " 'ID_DEBRT4C8': 225,\n",
    " 'ID_DF19AH9G': 226,\n",
    " 'ID_DKEDN070': 227,\n",
    " 'ID_DKNFRR94': 228,\n",
    " 'ID_DKYRY1VS': 229,\n",
    " 'ID_DL7257PH': 230,\n",
    " 'ID_DLPZZFIJ': 231,\n",
    " 'ID_DN9ALJT4': 232,\n",
    " 'ID_DPPFAJ6O': 233,\n",
    " 'ID_DSZ1VC2A': 234,\n",
    " 'ID_DTTQRNE4': 235,\n",
    " 'ID_DVUF7IYI': 236,\n",
    " 'ID_DXFDO3HX': 237,\n",
    " 'ID_DYAVEIYE': 238,\n",
    " 'ID_E4NAVOHG': 239,\n",
    " 'ID_E7000EMK': 240,\n",
    " 'ID_EEAWBOYL': 241,\n",
    " 'ID_EETOBLMQ': 242,\n",
    " 'ID_EFUM1IB3': 243,\n",
    " 'ID_EIIQ4HJL': 244,\n",
    " 'ID_EK4VZ52Q': 245,\n",
    " 'ID_EKI17JGO': 246,\n",
    " 'ID_EMIAV5PV': 247,\n",
    " 'ID_ENJWVMFU': 248,\n",
    " 'ID_ENOCMDPI': 249,\n",
    " 'ID_EOIECRE2': 250,\n",
    " 'ID_EP02V6O9': 251,\n",
    " 'ID_EU409IWG': 252,\n",
    " 'ID_EVSAW1BF': 253,\n",
    " 'ID_EVTW8X2J': 254,\n",
    " 'ID_EWEN4C0N': 255,\n",
    " 'ID_EWFWK6L1': 256,\n",
    " 'ID_EWTPLPQM': 257,\n",
    " 'ID_F04XYXNO': 258,\n",
    " 'ID_F19EBYGB': 259,\n",
    " 'ID_F1CNSJBO': 260,\n",
    " 'ID_F2M9J1QJ': 261,\n",
    " 'ID_F60AZ116': 262,\n",
    " 'ID_FDCEHVOD': 263,\n",
    " 'ID_FEOI64KN': 264,\n",
    " 'ID_FH7XN5HK': 265,\n",
    " 'ID_FHG03TE0': 266,\n",
    " 'ID_FKNOHQ2F': 267,\n",
    " 'ID_FRUGDE4G': 268,\n",
    " 'ID_FWJMLGFB': 269,\n",
    " 'ID_G2O8B9R9': 270,\n",
    " 'ID_G4CN5BNX': 271,\n",
    " 'ID_G5EFF75Z': 272,\n",
    " 'ID_G78FOQYQ': 273,\n",
    " 'ID_G87HE5T9': 274,\n",
    " 'ID_G91KCS98': 275,\n",
    " 'ID_GBP5RWBW': 276,\n",
    " 'ID_GGFY5Z38': 277,\n",
    " 'ID_GGRLN92Z': 278,\n",
    " 'ID_GI90U9RD': 279,\n",
    " 'ID_GKU067BE': 280,\n",
    " 'ID_GLACPTCA': 281,\n",
    " 'ID_GOIGEZE8': 282,\n",
    " 'ID_GOMKISKS': 283,\n",
    " 'ID_GP3WNMQH': 284,\n",
    " 'ID_GPZBRVUQ': 285,\n",
    " 'ID_GU6BX7OY': 286,\n",
    " 'ID_GUGKLLI9': 287,\n",
    " 'ID_GVX36W01': 288,\n",
    " 'ID_H0Q7JNV1': 289,\n",
    " 'ID_H27PCYW4': 290,\n",
    " 'ID_H49BIKG7': 291,\n",
    " 'ID_H4WRH27A': 292,\n",
    " 'ID_H5QG5VMD': 293,\n",
    " 'ID_H6H66KH2': 294,\n",
    " 'ID_H6V0DHCM': 295,\n",
    " 'ID_HB9WSKP9': 296,\n",
    " 'ID_HCCBAPTP': 297,\n",
    " 'ID_HHF8W6GO': 298,\n",
    " 'ID_HNY0SOAW': 299,\n",
    " 'ID_HPTFSC3K': 300,\n",
    " 'ID_HPYKEW7R': 301,\n",
    " 'ID_HQC5KGL5': 302,\n",
    " 'ID_HRER0KI5': 303,\n",
    " 'ID_HT3DTAG1': 304,\n",
    " 'ID_HTSWMY3T': 305,\n",
    " 'ID_HV2F2U3U': 306,\n",
    " 'ID_HYJCUA56': 307,\n",
    " 'ID_HZKCT0PI': 308,\n",
    " 'ID_I14RAYEM': 309,\n",
    " 'ID_I7AY16R0': 310,\n",
    " 'ID_IBRGSBOA': 311,\n",
    " 'ID_ICUXU3S2': 312,\n",
    " 'ID_IDEQCVEC': 313,\n",
    " 'ID_IDJ1L6GL': 314,\n",
    " 'ID_IG3ZU2ZF': 315,\n",
    " 'ID_IGWZ8LQR': 316,\n",
    " 'ID_II7DWVQR': 317,\n",
    " 'ID_ILDWDPY2': 318,\n",
    " 'ID_IM6OHCK8': 319,\n",
    " 'ID_IPJJKELT': 320,\n",
    " 'ID_IPWDET7J': 321,\n",
    " 'ID_IS54QGW9': 322,\n",
    " 'ID_IS5PC7WP': 323,\n",
    " 'ID_IUV7FU2U': 324,\n",
    " 'ID_IXRGB6OV': 325,\n",
    " 'ID_IZ8B4OAH': 326,\n",
    " 'ID_IZLDEI78': 327,\n",
    " 'ID_J1010ZTT': 328,\n",
    " 'ID_J15AKP1H': 329,\n",
    " 'ID_J5WBKEM3': 330,\n",
    " 'ID_J9I1S6T7': 331,\n",
    " 'ID_JA9L72HB': 332,\n",
    " 'ID_JFIU2R4K': 333,\n",
    " 'ID_JFK7XPYK': 334,\n",
    " 'ID_JGPD54X5': 335,\n",
    " 'ID_JHECYNWP': 336,\n",
    " 'ID_JKJP61NL': 337,\n",
    " 'ID_JL0A7NYU': 338,\n",
    " 'ID_JMF7GIUY': 339,\n",
    " 'ID_JMKNLEUZ': 340,\n",
    " 'ID_JN1VLXHD': 341,\n",
    " 'ID_JNE2K1SS': 342,\n",
    " 'ID_JP06JI0C': 343,\n",
    " 'ID_JW43FR1J': 344,\n",
    " 'ID_JXNNMUJK': 345,\n",
    " 'ID_JYOCIVGT': 346,\n",
    " 'ID_JZ6N5FRO': 347,\n",
    " 'ID_K06LVF2G': 348,\n",
    " 'ID_K3VPZMW2': 349,\n",
    " 'ID_K7L28JTT': 350,\n",
    " 'ID_K81P666R': 351,\n",
    " 'ID_K830M6NE': 352,\n",
    " 'ID_KAG4KAE9': 353,\n",
    " 'ID_KAHZNQZ4': 354,\n",
    " 'ID_KC53ZIHC': 355,\n",
    " 'ID_KD5JPIY4': 356,\n",
    " 'ID_KDY6XYY0': 357,\n",
    " 'ID_KFK1U0BS': 358,\n",
    " 'ID_KJBPWWIH': 359,\n",
    " 'ID_KKRFBDM9': 360,\n",
    " 'ID_KL74YZ1W': 361,\n",
    " 'ID_KLAHLZBN': 362,\n",
    " 'ID_KLXJD2ZC': 363,\n",
    " 'ID_KR88Y90B': 364,\n",
    " 'ID_KSFJ2RGK': 365,\n",
    " 'ID_KSKX84HK': 366,\n",
    " 'ID_KST7PRMU': 367,\n",
    " 'ID_KXGJ4N09': 368,\n",
    " 'ID_KYEZ4Q5U': 369,\n",
    " 'ID_KYVAXN0B': 370,\n",
    " 'ID_L1OMXXIV': 371,\n",
    " 'ID_L3GUMYJ4': 372,\n",
    " 'ID_L76JBE84': 373,\n",
    " 'ID_L80OJ6QI': 374,\n",
    " 'ID_LCUC9FYE': 375,\n",
    " 'ID_LEBJ75LN': 376,\n",
    " 'ID_LEL3JT8E': 377,\n",
    " 'ID_LJF4GEZC': 378,\n",
    " 'ID_LL4GFXCN': 379,\n",
    " 'ID_LRWZVXJZ': 380,\n",
    " 'ID_LTB6HGNO': 381,\n",
    " 'ID_LTKK72S4': 382,\n",
    " 'ID_LUDJ2HBX': 383,\n",
    " 'ID_LVP6C9HW': 384,\n",
    " 'ID_LWI3010X': 385,\n",
    " 'ID_LXRTEQO2': 386,\n",
    " 'ID_M7QACJDH': 387,\n",
    " 'ID_M840FM1K': 388,\n",
    " 'ID_MI4W134C': 389,\n",
    " 'ID_MJ8THLEX': 390,\n",
    " 'ID_MM9562CN': 391,\n",
    " 'ID_MNGV4C4L': 392,\n",
    " 'ID_MP4ONP0P': 393,\n",
    " 'ID_MPA7FT70': 394,\n",
    " 'ID_MUYK98UO': 395,\n",
    " 'ID_MWCIADS6': 396,\n",
    " 'ID_MWHDDOC0': 397,\n",
    " 'ID_MWRHCSMW': 398,\n",
    " 'ID_MWXN4B53': 399,\n",
    " 'ID_MXDJNYS9': 400,\n",
    " 'ID_MZRCNBAQ': 401,\n",
    " 'ID_N0UG6G1F': 402,\n",
    " 'ID_N4FNUPW8': 403,\n",
    " 'ID_N6FOPL2Y': 404,\n",
    " 'ID_NEG8CDCD': 405,\n",
    " 'ID_NER74N7H': 406,\n",
    " 'ID_NFN5I5XU': 407,\n",
    " 'ID_NFRZQ99K': 408,\n",
    " 'ID_NMRV6S78': 409,\n",
    " 'ID_NO60D4TO': 410,\n",
    " 'ID_NQGKKQRG': 411,\n",
    " 'ID_NQK2S2JO': 412,\n",
    " 'ID_NQX0L8NJ': 413,\n",
    " 'ID_NXCBXYUJ': 414,\n",
    " 'ID_O1P9FGN4': 415,\n",
    " 'ID_O30PXNS2': 416,\n",
    " 'ID_O3EQ8WEA': 417,\n",
    " 'ID_O4H6XGB4': 418,\n",
    " 'ID_O50PFEVT': 419,\n",
    " 'ID_O7S3MLNP': 420,\n",
    " 'ID_OB71L9F1': 421,\n",
    " 'ID_OBS64UDF': 422,\n",
    " 'ID_OBSKQ4V1': 423,\n",
    " 'ID_OC055HAA': 424,\n",
    " 'ID_OC87DVM9': 425,\n",
    " 'ID_ODJJ0THO': 426,\n",
    " 'ID_OE2XOG04': 427,\n",
    " 'ID_OHS6RR07': 428,\n",
    " 'ID_OIZQHOLE': 429,\n",
    " 'ID_OJUD1I32': 430,\n",
    " 'ID_OKHY3GBQ': 431,\n",
    " 'ID_OLMRL7BS': 432,\n",
    " 'ID_OM37A8LR': 433,\n",
    " 'ID_ON6TBDP7': 434,\n",
    " 'ID_OQM43U7K': 435,\n",
    " 'ID_OT3MQDZC': 436,\n",
    " 'ID_OW9Z59TM': 437,\n",
    " 'ID_OWJBAFBQ': 438,\n",
    " 'ID_OZKQYKQF': 439,\n",
    " 'ID_P0JSAPAH': 440,\n",
    " 'ID_P98LF0O1': 441,\n",
    " 'ID_P9QCOLI6': 442,\n",
    " 'ID_PBG2XS57': 443,\n",
    " 'ID_PBON8UC5': 444,\n",
    " 'ID_PD70LTRE': 445,\n",
    " 'ID_PDW4BNW1': 446,\n",
    " 'ID_PGGWBZ29': 447,\n",
    " 'ID_PJ53WB0E': 448,\n",
    " 'ID_PK1XYY2J': 449,\n",
    " 'ID_PK7PTLYZ': 450,\n",
    " 'ID_PMX7KBOK': 451,\n",
    " 'ID_PO6SP4VA': 452,\n",
    " 'ID_PREVA6HZ': 453,\n",
    " 'ID_PSLB87BL': 454,\n",
    " 'ID_PYMMJPRC': 455,\n",
    " 'ID_PYUUJ5M3': 456,\n",
    " 'ID_Q05IUX5U': 457,\n",
    " 'ID_Q0QMD9X9': 458,\n",
    " 'ID_Q3TLZ0NB': 459,\n",
    " 'ID_Q4V1C0YI': 460,\n",
    " 'ID_Q5C5K59A': 461,\n",
    " 'ID_QAJGGM73': 462,\n",
    " 'ID_QCQ20X8Y': 463,\n",
    " 'ID_QEHB6SP5': 464,\n",
    " 'ID_QEMTT0ST': 465,\n",
    " 'ID_QGNRR2WQ': 466,\n",
    " 'ID_QHZJNHVX': 467,\n",
    " 'ID_QIS7V5IV': 468,\n",
    " 'ID_QIXKBR86': 469,\n",
    " 'ID_QKQ00O16': 470,\n",
    " 'ID_QKWD8147': 471,\n",
    " 'ID_QMJBCJTO': 472,\n",
    " 'ID_QNZG9PEU': 473,\n",
    " 'ID_QPA4T2QH': 474,\n",
    " 'ID_QQYS31OV': 475,\n",
    " 'ID_QR4DQRG1': 476,\n",
    " 'ID_QRQCZ4Z4': 477,\n",
    " 'ID_QV0XBIAB': 478,\n",
    " 'ID_QVW81QWH': 479,\n",
    " 'ID_QWUGRXJI': 480,\n",
    " 'ID_QZLKZJ16': 481,\n",
    " 'ID_QZMTM1LI': 482,\n",
    " 'ID_R3I7GSLU': 483,\n",
    " 'ID_R618L63O': 484,\n",
    " 'ID_R6C3GV9H': 485,\n",
    " 'ID_R6SFPFV4': 486,\n",
    " 'ID_R803GAI9': 487,\n",
    " 'ID_R9WWGZ6K': 488,\n",
    " 'ID_RAT7AK8R': 489,\n",
    " 'ID_RFU5FMC8': 490,\n",
    " 'ID_RJZDWDAU': 491,\n",
    " 'ID_RNR88WYL': 492,\n",
    " 'ID_ROVPAHRR': 493,\n",
    " 'ID_RPNHBU1X': 494,\n",
    " 'ID_RROBJ38Y': 495,\n",
    " 'ID_RRYKCVJW': 496,\n",
    " 'ID_RT5HR95R': 497,\n",
    " 'ID_RX2CNZIS': 498,\n",
    " 'ID_S2DH4W65': 499,\n",
    " 'ID_S2N3NDJS': 500,\n",
    " 'ID_S2ZLOYQU': 501,\n",
    " 'ID_S6RUK5NW': 502,\n",
    " 'ID_S7T4YYCU': 503,\n",
    " 'ID_SA37C0V7': 504,\n",
    " 'ID_SGHWIP1E': 505,\n",
    " 'ID_SQB73VYU': 506,\n",
    " 'ID_SREWU5C6': 507,\n",
    " 'ID_SSBUAMO7': 508,\n",
    " 'ID_STX8TIE2': 509,\n",
    " 'ID_SXSLZSI1': 510,\n",
    " 'ID_SY9KA6L3': 511,\n",
    " 'ID_T12UUJG7': 512,\n",
    " 'ID_T1Q3B3GG': 513,\n",
    " 'ID_T31AU81S': 514,\n",
    " 'ID_T4Q5NGSF': 515,\n",
    " 'ID_T5467PO8': 516,\n",
    " 'ID_T62C8AP0': 517,\n",
    " 'ID_T64ZJ5ZU': 518,\n",
    " 'ID_T7H1XN5Z': 519,\n",
    " 'ID_T7W4WKY9': 520,\n",
    " 'ID_T9ASGHM0': 521,\n",
    " 'ID_TEHN7MG2': 522,\n",
    " 'ID_TFI6B51W': 523,\n",
    " 'ID_THU0JYSJ': 524,\n",
    " 'ID_TLXXQLYC': 525,\n",
    " 'ID_TN3U4DC4': 526,\n",
    " 'ID_TR5M4KQV': 527,\n",
    " 'ID_TRN20YF5': 528,\n",
    " 'ID_TRXZ1689': 529,\n",
    " 'ID_U2DPW95R': 530,\n",
    " 'ID_U3SD7K1V': 531,\n",
    " 'ID_U8OKJQV2': 532,\n",
    " 'ID_UATYFRPS': 533,\n",
    " 'ID_UC7PMJ25': 534,\n",
    " 'ID_UCWLCAW5': 535,\n",
    " 'ID_UFDKE17M': 536,\n",
    " 'ID_UGM73VHI': 537,\n",
    " 'ID_UHMPXW5E': 538,\n",
    " 'ID_UIJNWDX2': 539,\n",
    " 'ID_UKIMWWUK': 540,\n",
    " 'ID_UL4NP2IJ': 541,\n",
    " 'ID_UL9DKAH4': 542,\n",
    " 'ID_ULFMIS9R': 543,\n",
    " 'ID_UMASWHEF': 544,\n",
    " 'ID_UOTGKHS3': 545,\n",
    " 'ID_UUQYAGBP': 546,\n",
    " 'ID_UWJ3YGHF': 547,\n",
    " 'ID_UXJDXX9L': 548,\n",
    " 'ID_UXUK6H9F': 549,\n",
    " 'ID_UY24QO9Y': 550,\n",
    " 'ID_V891OYVP': 551,\n",
    " 'ID_V8L2BWZV': 552,\n",
    " 'ID_VACHXR44': 553,\n",
    " 'ID_VAG7G5IC': 554,\n",
    " 'ID_VEHWAM3N': 555,\n",
    " 'ID_VLSQNHJS': 556,\n",
    " 'ID_VP9Q1486': 557,\n",
    " 'ID_VTVBHCO7': 558,\n",
    " 'ID_VU4MWMEQ': 559,\n",
    " 'ID_VUN0XPN1': 560,\n",
    " 'ID_VVG172LB': 561,\n",
    " 'ID_VZDE4BA3': 562,\n",
    " 'ID_W1EF4MOT': 563,\n",
    " 'ID_W25SLQ7X': 564,\n",
    " 'ID_W3F61OZ8': 565,\n",
    " 'ID_W5BFF5QC': 566,\n",
    " 'ID_WASR8LFE': 567,\n",
    " 'ID_WDA74NYV': 568,\n",
    " 'ID_WDL1IC3Y': 569,\n",
    " 'ID_WGM9ZTJ3': 570,\n",
    " 'ID_WH4S1N9Q': 571,\n",
    " 'ID_WJ12QQ71': 572,\n",
    " 'ID_WJIU8X3N': 573,\n",
    " 'ID_WOXKZITI': 574,\n",
    " 'ID_WPAZXG4Y': 575,\n",
    " 'ID_WQ6K1M6J': 576,\n",
    " 'ID_WRQ0YFYZ': 577,\n",
    " 'ID_WT3PHABY': 578,\n",
    " 'ID_WVFRCW5F': 579,\n",
    " 'ID_WX5LMCE5': 580,\n",
    " 'ID_WX90Q0Q3': 581,\n",
    " 'ID_WZASJ4IV': 582,\n",
    " 'ID_X5UEAAIY': 583,\n",
    " 'ID_X9050P7D': 584,\n",
    " 'ID_XBT7BBZD': 585,\n",
    " 'ID_XCHM541T': 586,\n",
    " 'ID_XDMKT9HU': 587,\n",
    " 'ID_XEI81LPI': 588,\n",
    " 'ID_XFQO60PZ': 589,\n",
    " 'ID_XIRRA7RV': 590,\n",
    " 'ID_XJ2WUU6R': 591,\n",
    " 'ID_XJWVEY79': 592,\n",
    " 'ID_XK39LD7P': 593,\n",
    " 'ID_XMM4Z5EZ': 594,\n",
    " 'ID_XMQ5NR2G': 595,\n",
    " 'ID_XNS4KRCK': 596,\n",
    " 'ID_XOSYZEG8': 597,\n",
    " 'ID_XQGYMP2Q': 598,\n",
    " 'ID_XQMJ05QY': 599,\n",
    " 'ID_XVGLDCOL': 600,\n",
    " 'ID_XW18HGR9': 601,\n",
    " 'ID_XWI57Q9K': 602,\n",
    " 'ID_XWL7CYH2': 603,\n",
    " 'ID_XWV89SWE': 604,\n",
    " 'ID_Y1FWWSBP': 605,\n",
    " 'ID_Y1N9XWDE': 606,\n",
    " 'ID_Y86ZTX6M': 607,\n",
    " 'ID_YG9IONLS': 608,\n",
    " 'ID_YGN8TPQ5': 609,\n",
    " 'ID_YLIXN9AV': 610,\n",
    " 'ID_YMK5WFEQ': 611,\n",
    " 'ID_YO3TBJ4R': 612,\n",
    " 'ID_YO6NFBHZ': 613,\n",
    " 'ID_YP3N91A2': 614,\n",
    " 'ID_YQ6DCSJJ': 615,\n",
    " 'ID_YSOEYNCU': 616,\n",
    " 'ID_YU30VY06': 617,\n",
    " 'ID_YVMAC2WR': 618,\n",
    " 'ID_YXXCNK2G': 619,\n",
    " 'ID_YYCO8ZBA': 620,\n",
    " 'ID_Z669YURL': 621,\n",
    " 'ID_Z71PIKP3': 622,\n",
    " 'ID_Z8TGBH41': 623,\n",
    " 'ID_Z8YAZGAP': 624,\n",
    " 'ID_ZD3UQK1K': 625,\n",
    " 'ID_ZE3J281E': 626,\n",
    " 'ID_ZE7D4JAP': 627,\n",
    " 'ID_ZF8TL0GP': 628,\n",
    " 'ID_ZIMAODWU': 629,\n",
    " 'ID_ZJ5I8APD': 630,\n",
    " 'ID_ZJC5BV5Z': 631,\n",
    " 'ID_ZL8511XW': 632,\n",
    " 'ID_ZLWVE54E': 633,\n",
    " 'ID_ZMO6O1V6': 634,\n",
    " 'ID_ZOW0PTN6': 635,\n",
    " 'ID_ZP3MIG6N': 636,\n",
    " 'ID_ZQOB9ZQL': 637,\n",
    " 'ID_ZRZC49M1': 638,\n",
    " 'ID_ZTDZNU6I': 639,\n",
    " 'ID_ZUPS2JD2': 640,\n",
    " 'ID_ZWD4FQ05': 641,\n",
    " 'ID_ZWJJP6T6': 642,\n",
    " 'ID_ZWPPN4W1': 643,\n",
    " 'ID_ZYI3C0HF': 644,\n",
    " 'ID_ZZKYYPVY': 645}\n"
   ]
  },
  {
   "cell_type": "code",
   "execution_count": null,
   "metadata": {},
   "outputs": [],
   "source": [
    "game_mapping = {value:key for key, value in game_mapping.items()}\n",
    "Test[\"Game_ID\"] = Test[\"Game_ID\"].apply(lambda x: game_mapping[x])"
   ]
  },
  {
   "cell_type": "code",
   "execution_count": null,
   "metadata": {},
   "outputs": [],
   "source": [
    "Test[\"Score\"].unique()"
   ]
  },
  {
   "cell_type": "code",
   "execution_count": null,
   "metadata": {},
   "outputs": [],
   "source": [
    "submit = Test[[\"Game_ID\", \"Score\"]]"
   ]
  },
  {
   "cell_type": "code",
   "execution_count": null,
   "metadata": {},
   "outputs": [],
   "source": [
    "submit.shape"
   ]
  },
  {
   "cell_type": "code",
   "execution_count": null,
   "metadata": {},
   "outputs": [],
   "source": [
    "submit.drop_duplicates(subset = [\"Game_ID\"], inplace=True)"
   ]
  },
  {
   "cell_type": "code",
   "execution_count": null,
   "metadata": {},
   "outputs": [],
   "source": [
    "submit = submit.reset_index(drop=True)"
   ]
  },
  {
   "cell_type": "code",
   "execution_count": null,
   "metadata": {},
   "outputs": [],
   "source": [
    "submit.shape"
   ]
  },
  {
   "cell_type": "code",
   "execution_count": null,
   "metadata": {},
   "outputs": [],
   "source": [
    "submit.to_csv(\"submission.csv\", index=False)"
   ]
  }
 ],
 "metadata": {
  "kernelspec": {
   "display_name": "Python 3",
   "language": "python",
   "name": "python3"
  },
  "language_info": {
   "codemirror_mode": {
    "name": "ipython",
    "version": 3
   },
   "file_extension": ".py",
   "mimetype": "text/x-python",
   "name": "python",
   "nbconvert_exporter": "python",
   "pygments_lexer": "ipython3",
   "version": "3.7.7"
  }
 },
 "nbformat": 4,
 "nbformat_minor": 5
}
